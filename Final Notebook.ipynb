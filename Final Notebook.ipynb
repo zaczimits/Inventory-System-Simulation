{
 "cells": [
  {
   "cell_type": "markdown",
   "metadata": {},
   "source": [
    "# Simulation of an (M,L) Inventory System\n",
    "## Describing the System\n",
    "\n",
    "An (M, L) inventory system has a maximum inventory level of 50 and a reorder point of 30. The inventory is checked at the end of each month. If current inventory levels plus inventory on order is less than 30, a new order is placed. If current inventory plus inventory on order is greater than or equal to 30, no order is placed at the end of the month. The procurement quantity Q in the order is defined by the maximum inventory level (M) minus the current inventory plus inventory on order (I). Backordering is allowed, but it comes at a cost of $4 per item short per month.\n",
    "\n",
    "Lead time of new orders varies according to a uniform distribution on the interval [0.25, 1.25] months. Time between customer demands is exponentially distributed with a mean of 1/15 month. The size of the demands follows this empirical distribution:\n",
    "*   1/2 probability of 1 demand\n",
    "*   1/4 probability of 2 demand\n",
    "*   1/8 probability of 3 demand\n",
    "*   1/8 probability of 4 demand\n",
    "\n",
    "The starting inventory in the inventory system is 50 units, with no orders outstanding.\n",
    "<br/>\n",
    "\n",
    "## Problem Description\n",
    "\n",
    "The objective of this simulation is to solve for the mean monthly cost of the inventory system. The costs associated with the system are as follows:\n",
    "*   Backlog: \\$4 per item short per month\n",
    "*   Holding: \\$1 per unit in inventory per month\n",
    "*   Ordering: \\$60 per order\n",
    "*   Item: \\$5 per item ordered\n",
    "\n",
    "Ten replications of the simulation will be generated, and then the long-run mean monthly cost will be estimated by averaging the results across replications. In addition, a 90% confidence interval will be constructed.\n",
    "\n",
    "If the results from the ten replications lead to a confidence interval wider than \\\\$5, the total number of additional replications needed to shrink the confidence interval to \\$5 will be estimated.\n"
   ]
  },
  {
   "cell_type": "markdown",
   "metadata": {},
   "source": [
    "## Building the Simulation Model\n",
    "To build this simulation model, numpy is primarily used. The random function is also needed to create stochastic lead time and customer demand. Scipy is used for statistical analysis after the simulation is completed. These libraries are imported below."
   ]
  },
  {
   "cell_type": "code",
   "execution_count": 1,
   "metadata": {},
   "outputs": [],
   "source": [
    "#import libraries\n",
    "import numpy as np\n",
    "import pandas as pd\n",
    "from scipy import stats\n",
    "import random"
   ]
  },
  {
   "cell_type": "markdown",
   "metadata": {},
   "source": [
    "The simulation is built using for loops and while loops. First, the time is intialized to 0, inventory level is set to 50, and all necessary vectors are initialized so they are stored globally.\n",
    "\n",
    "The simulation moves forward as new customer orders arrive. Each time a customer order arrives, inventory is subtracted from demand, time advances based on the interarrival time, and backlog is documented if there is no remaining inventory. At the end of a month (when the variable time crosses an integer value), inventory levels are checked. If inventory plus outstanding orders is less than 30, a new order is generated as well as order lead time. The order quantity, backlog for the month, and average inventory levels are stored at the end of each month, and then the loop repeats for 112 months. \n",
    "\n",
    "After the 112 months are completed, the average monthly cost is found (using a 12 month initialization period) and stored. This entire process is looped 10 times, so the final result is a 'cost' vector containing the long-run mean monthly cost of each of the 10 replications. "
   ]
  },
  {
   "cell_type": "code",
   "execution_count": 58,
   "metadata": {},
   "outputs": [],
   "source": [
    "#run 10 simulations and store results in cost vector\n",
    "cost = np.array([])\n",
    "for i in range(10):\n",
    "    time = 0\n",
    "    inv_level = 50\n",
    "    b = np.zeros(112)\n",
    "    orders = np.zeros(112)\n",
    "    inventory = np.zeros(112)\n",
    "    reorder_quantity = 0\n",
    "    arrive_time_of_order = 0\n",
    "    monthly_cost = np.zeros(112)\n",
    "    for i in range(1, 112):\n",
    "        while time < i:\n",
    "            inv_average = np.array([])\n",
    "            interarrival = -1/15 * np.log(random.random())\n",
    "            time += interarrival\n",
    "            x = random.random()\n",
    "            if x < 0.5:\n",
    "                demand = 1\n",
    "            elif x < 0.75:\n",
    "                demand = 2\n",
    "            elif x < 0.875:\n",
    "                demand = 3\n",
    "            else:\n",
    "                demand = 4\n",
    "            inv_level = inv_level - demand\n",
    "            if arrive_time_of_order > time:\n",
    "                inv_level += reorder_quantity\n",
    "                reorder_quantity = 0\n",
    "                arrive_time_of_order = 0\n",
    "            if inv_level < 0:\n",
    "                b[i] += demand\n",
    "            inv_average = np.append(inv_average, inv_level)\n",
    "        if inv_level < 30:\n",
    "            reorder_quantity = 50 - inv_level\n",
    "            arrive_time_of_order = time + random.random()+0.25\n",
    "        orders[i] = reorder_quantity\n",
    "        inventory[i] = sum(inv_average)/len(inv_average)\n",
    "    for i in range(len(monthly_cost)):\n",
    "        if orders[i] > 0:\n",
    "            monthly_cost[i] = orders[i] * 5 + 60 + inventory[i] * 1 + b[i] * 4\n",
    "        else:\n",
    "            monthly_cost[i] = inventory[i] * 1 + b[i] * 4\n",
    "    average_long_run_monthly_cost = \\\n",
    "    sum(monthly_cost[12:])/len(monthly_cost[12:])\n",
    "    cost = np.append(cost, average_long_run_monthly_cost)"
   ]
  },
  {
   "cell_type": "markdown",
   "metadata": {},
   "source": [
    "## Estimating the Monthly Cost\n",
    "After the ten replications are run, the point estimate for the long-run mean monthly cost is found by taking the average value across the ten replications."
   ]
  },
  {
   "cell_type": "code",
   "execution_count": 59,
   "metadata": {},
   "outputs": [
    {
     "name": "stdout",
     "output_type": "stream",
     "text": [
      "$ 216.76\n"
     ]
    }
   ],
   "source": [
    "#solve for point estimate of cost\n",
    "point_estimate = sum(cost)/len(cost)\n",
    "print('$',point_estimate.round(2))"
   ]
  },
  {
   "cell_type": "markdown",
   "metadata": {},
   "source": [
    "The 90% confidence is found using the t-distribution. The t-statistic is found using scipy, and the standard deviation is found using numpy."
   ]
  },
  {
   "cell_type": "code",
   "execution_count": 69,
   "metadata": {},
   "outputs": [
    {
     "name": "stdout",
     "output_type": "stream",
     "text": [
      "Confidence Interval: (213.78,219.73)\n"
     ]
    }
   ],
   "source": [
    "#solve for confidence interval\n",
    "var_s = 0\n",
    "for i in range(len(cost)):\n",
    "    var_s += (cost[i] - point_estimate)**2\n",
    "var_s /= (len(cost)-1)\n",
    "std_dev_s = np.sqrt(var_s)\n",
    "t_stat = stats.t.ppf(1-0.05, 10-1)\n",
    "half_width = t_stat * std_dev_s / np.sqrt(10)\n",
    "upper_bound = point_estimate + half_width\n",
    "lower_bound = point_estimate - half_width\n",
    "print('Confidence Interval: ({:.2f},{:.2f})'.format(lower_bound, upper_bound))"
   ]
  },
  {
   "cell_type": "markdown",
   "metadata": {},
   "source": [
    "## Estimating Number of Additional Replications Needed\n"
   ]
  },
  {
   "cell_type": "code",
   "execution_count": 70,
   "metadata": {},
   "outputs": [
    {
     "name": "stdout",
     "output_type": "stream",
     "text": [
      "2.8543459585511126\n"
     ]
    }
   ],
   "source": [
    "R0 = 10\n",
    "error = 5\n",
    "z_value = 1.645\n",
    "R_initial_estimate = ((z_value * std_dev_s)/error) ** 2\n",
    "print(R_initial_estimate)"
   ]
  },
  {
   "cell_type": "code",
   "execution_count": 74,
   "metadata": {},
   "outputs": [
    {
     "name": "stdout",
     "output_type": "stream",
     "text": [
      "8.993654905274191\n"
     ]
    }
   ],
   "source": [
    "t_stat_3rep = stats.t.ppf(1-0.05, 3-1)\n",
    "R = ((t_stat_3rep * std_dev_s)/error) ** 2\n",
    "print(R)"
   ]
  },
  {
   "cell_type": "code",
   "execution_count": 76,
   "metadata": {},
   "outputs": [
    {
     "name": "stdout",
     "output_type": "stream",
     "text": [
      "5.84188237623346\n"
     ]
    }
   ],
   "source": [
    "t_stat_4rep = stats.t.ppf(1-0.05, 4-1)\n",
    "R = ((t_stat_4rep * std_dev_s)/error) ** 2\n",
    "print(R)"
   ]
  },
  {
   "cell_type": "code",
   "execution_count": 78,
   "metadata": {},
   "outputs": [
    {
     "name": "stdout",
     "output_type": "stream",
     "text": [
      "4.793875842795313\n"
     ]
    }
   ],
   "source": [
    "t_stat_5rep = stats.t.ppf(1-0.05, 5-1)\n",
    "R = ((t_stat_5rep * std_dev_s)/error) ** 2\n",
    "print(R)"
   ]
  },
  {
   "cell_type": "code",
   "execution_count": 79,
   "metadata": {},
   "outputs": [
    {
     "name": "stdout",
     "output_type": "stream",
     "text": [
      "0\n"
     ]
    }
   ],
   "source": [
    "if R-R0 > 0:\n",
    "    additional_rep = R-R0\n",
    "else:\n",
    "    additional_rep = 0\n",
    "print(additional_rep)"
   ]
  },
  {
   "cell_type": "code",
   "execution_count": 85,
   "metadata": {},
   "outputs": [
    {
     "name": "stdout",
     "output_type": "stream",
     "text": [
      "5\n"
     ]
    }
   ],
   "source": [
    "R_guess = 3\n",
    "R = 4\n",
    "while R > R_guess:\n",
    "    t_stat = stats.t.ppf(1-0.05, R_guess-1)\n",
    "    R = ((t_stat * std_dev_s)/error) ** 2\n",
    "    if R > R_guess:\n",
    "        R_guess += 1\n",
    "print(R_guess)"
   ]
  },
  {
   "cell_type": "code",
   "execution_count": null,
   "metadata": {},
   "outputs": [],
   "source": []
  }
 ],
 "metadata": {
  "kernelspec": {
   "display_name": "Python 3",
   "language": "python",
   "name": "python3"
  },
  "language_info": {
   "codemirror_mode": {
    "name": "ipython",
    "version": 3
   },
   "file_extension": ".py",
   "mimetype": "text/x-python",
   "name": "python",
   "nbconvert_exporter": "python",
   "pygments_lexer": "ipython3",
   "version": "3.7.4"
  }
 },
 "nbformat": 4,
 "nbformat_minor": 4
}
